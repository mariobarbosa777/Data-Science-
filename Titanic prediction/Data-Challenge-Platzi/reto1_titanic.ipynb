{
 "metadata": {
  "language_info": {
   "codemirror_mode": {
    "name": "ipython",
    "version": 3
   },
   "file_extension": ".py",
   "mimetype": "text/x-python",
   "name": "python",
   "nbconvert_exporter": "python",
   "pygments_lexer": "ipython3",
   "version": 3
  },
  "orig_nbformat": 2,
  "kernelspec": {
   "name": "python_defaultSpec_1597162341562",
   "display_name": "Python 3.8.5 64-bit"
  }
 },
 "nbformat": 4,
 "nbformat_minor": 2,
 "cells": [
  {
   "cell_type": "code",
   "execution_count": 16,
   "metadata": {},
   "outputs": [],
   "source": [
    "%config IPCompleter.greedy=True\n",
    "\n",
    "import pandas as pd \n",
    "\n",
    "#Read Information\n",
    "csv_gender_submission = \"data/gender_submission.csv\"\n",
    "csv_test = \"data/test.csv\"\n",
    "csv_train = \"data/train.csv\"\n",
    "\n",
    "#Get DF \n",
    "df_train = pd.read_csv(csv_train)\n",
    "df_test = pd.read_csv(csv_test)\n",
    "df_gender_submission = pd.read_csv(csv_gender_submission)\n"
   ]
  },
  {
   "cell_type": "code",
   "execution_count": 6,
   "metadata": {},
   "outputs": [],
   "source": [
    "df_test = df_test.merge( df_gender_submission, left_on=\"PassengerId\", right_on=\"PassengerId\")\n",
    "\n",
    "df = pd.concat([df_train,df_test], ignore_index=True)"
   ]
  },
  {
   "cell_type": "code",
   "execution_count": 7,
   "metadata": {},
   "outputs": [
    {
     "output_type": "execute_result",
     "data": {
      "text/plain": "      PassengerId  Survived  Pclass  \\\n0               1         0       3   \n1               2         1       1   \n2               3         1       3   \n3               4         1       1   \n4               5         0       3   \n...           ...       ...     ...   \n1304         1305         0       3   \n1305         1306         1       1   \n1306         1307         0       3   \n1307         1308         0       3   \n1308         1309         0       3   \n\n                                                   Name     Sex   Age  SibSp  \\\n0                               Braund, Mr. Owen Harris    male  22.0      1   \n1     Cumings, Mrs. John Bradley (Florence Briggs Th...  female  38.0      1   \n2                                Heikkinen, Miss. Laina  female  26.0      0   \n3          Futrelle, Mrs. Jacques Heath (Lily May Peel)  female  35.0      1   \n4                              Allen, Mr. William Henry    male  35.0      0   \n...                                                 ...     ...   ...    ...   \n1304                                 Spector, Mr. Woolf    male   NaN      0   \n1305                       Oliva y Ocana, Dona. Fermina  female  39.0      0   \n1306                       Saether, Mr. Simon Sivertsen    male  38.5      0   \n1307                                Ware, Mr. Frederick    male   NaN      0   \n1308                           Peter, Master. Michael J    male   NaN      1   \n\n      Parch              Ticket      Fare Cabin Embarked  \n0         0           A/5 21171    7.2500   NaN        S  \n1         0            PC 17599   71.2833   C85        C  \n2         0    STON/O2. 3101282    7.9250   NaN        S  \n3         0              113803   53.1000  C123        S  \n4         0              373450    8.0500   NaN        S  \n...     ...                 ...       ...   ...      ...  \n1304      0           A.5. 3236    8.0500   NaN        S  \n1305      0            PC 17758  108.9000  C105        C  \n1306      0  SOTON/O.Q. 3101262    7.2500   NaN        S  \n1307      0              359309    8.0500   NaN        S  \n1308      1                2668   22.3583   NaN        C  \n\n[1309 rows x 12 columns]",
      "text/html": "<div>\n<style scoped>\n    .dataframe tbody tr th:only-of-type {\n        vertical-align: middle;\n    }\n\n    .dataframe tbody tr th {\n        vertical-align: top;\n    }\n\n    .dataframe thead th {\n        text-align: right;\n    }\n</style>\n<table border=\"1\" class=\"dataframe\">\n  <thead>\n    <tr style=\"text-align: right;\">\n      <th></th>\n      <th>PassengerId</th>\n      <th>Survived</th>\n      <th>Pclass</th>\n      <th>Name</th>\n      <th>Sex</th>\n      <th>Age</th>\n      <th>SibSp</th>\n      <th>Parch</th>\n      <th>Ticket</th>\n      <th>Fare</th>\n      <th>Cabin</th>\n      <th>Embarked</th>\n    </tr>\n  </thead>\n  <tbody>\n    <tr>\n      <th>0</th>\n      <td>1</td>\n      <td>0</td>\n      <td>3</td>\n      <td>Braund, Mr. Owen Harris</td>\n      <td>male</td>\n      <td>22.0</td>\n      <td>1</td>\n      <td>0</td>\n      <td>A/5 21171</td>\n      <td>7.2500</td>\n      <td>NaN</td>\n      <td>S</td>\n    </tr>\n    <tr>\n      <th>1</th>\n      <td>2</td>\n      <td>1</td>\n      <td>1</td>\n      <td>Cumings, Mrs. John Bradley (Florence Briggs Th...</td>\n      <td>female</td>\n      <td>38.0</td>\n      <td>1</td>\n      <td>0</td>\n      <td>PC 17599</td>\n      <td>71.2833</td>\n      <td>C85</td>\n      <td>C</td>\n    </tr>\n    <tr>\n      <th>2</th>\n      <td>3</td>\n      <td>1</td>\n      <td>3</td>\n      <td>Heikkinen, Miss. Laina</td>\n      <td>female</td>\n      <td>26.0</td>\n      <td>0</td>\n      <td>0</td>\n      <td>STON/O2. 3101282</td>\n      <td>7.9250</td>\n      <td>NaN</td>\n      <td>S</td>\n    </tr>\n    <tr>\n      <th>3</th>\n      <td>4</td>\n      <td>1</td>\n      <td>1</td>\n      <td>Futrelle, Mrs. Jacques Heath (Lily May Peel)</td>\n      <td>female</td>\n      <td>35.0</td>\n      <td>1</td>\n      <td>0</td>\n      <td>113803</td>\n      <td>53.1000</td>\n      <td>C123</td>\n      <td>S</td>\n    </tr>\n    <tr>\n      <th>4</th>\n      <td>5</td>\n      <td>0</td>\n      <td>3</td>\n      <td>Allen, Mr. William Henry</td>\n      <td>male</td>\n      <td>35.0</td>\n      <td>0</td>\n      <td>0</td>\n      <td>373450</td>\n      <td>8.0500</td>\n      <td>NaN</td>\n      <td>S</td>\n    </tr>\n    <tr>\n      <th>...</th>\n      <td>...</td>\n      <td>...</td>\n      <td>...</td>\n      <td>...</td>\n      <td>...</td>\n      <td>...</td>\n      <td>...</td>\n      <td>...</td>\n      <td>...</td>\n      <td>...</td>\n      <td>...</td>\n      <td>...</td>\n    </tr>\n    <tr>\n      <th>1304</th>\n      <td>1305</td>\n      <td>0</td>\n      <td>3</td>\n      <td>Spector, Mr. Woolf</td>\n      <td>male</td>\n      <td>NaN</td>\n      <td>0</td>\n      <td>0</td>\n      <td>A.5. 3236</td>\n      <td>8.0500</td>\n      <td>NaN</td>\n      <td>S</td>\n    </tr>\n    <tr>\n      <th>1305</th>\n      <td>1306</td>\n      <td>1</td>\n      <td>1</td>\n      <td>Oliva y Ocana, Dona. Fermina</td>\n      <td>female</td>\n      <td>39.0</td>\n      <td>0</td>\n      <td>0</td>\n      <td>PC 17758</td>\n      <td>108.9000</td>\n      <td>C105</td>\n      <td>C</td>\n    </tr>\n    <tr>\n      <th>1306</th>\n      <td>1307</td>\n      <td>0</td>\n      <td>3</td>\n      <td>Saether, Mr. Simon Sivertsen</td>\n      <td>male</td>\n      <td>38.5</td>\n      <td>0</td>\n      <td>0</td>\n      <td>SOTON/O.Q. 3101262</td>\n      <td>7.2500</td>\n      <td>NaN</td>\n      <td>S</td>\n    </tr>\n    <tr>\n      <th>1307</th>\n      <td>1308</td>\n      <td>0</td>\n      <td>3</td>\n      <td>Ware, Mr. Frederick</td>\n      <td>male</td>\n      <td>NaN</td>\n      <td>0</td>\n      <td>0</td>\n      <td>359309</td>\n      <td>8.0500</td>\n      <td>NaN</td>\n      <td>S</td>\n    </tr>\n    <tr>\n      <th>1308</th>\n      <td>1309</td>\n      <td>0</td>\n      <td>3</td>\n      <td>Peter, Master. Michael J</td>\n      <td>male</td>\n      <td>NaN</td>\n      <td>1</td>\n      <td>1</td>\n      <td>2668</td>\n      <td>22.3583</td>\n      <td>NaN</td>\n      <td>C</td>\n    </tr>\n  </tbody>\n</table>\n<p>1309 rows × 12 columns</p>\n</div>"
     },
     "metadata": {},
     "execution_count": 7
    }
   ],
   "source": [
    "df"
   ]
  },
  {
   "cell_type": "markdown",
   "metadata": {},
   "source": [
    "1. ¿Cuántas personas iban en el titanic? "
   ]
  },
  {
   "cell_type": "code",
   "execution_count": 15,
   "metadata": {
    "tags": []
   },
   "outputs": [
    {
     "output_type": "stream",
     "name": "stdout",
     "text": "Total Personas: 1309\n"
    }
   ],
   "source": [
    "total_passenger = df[\"PassengerId\"].nunique()\n",
    "print(f\"Total Personas: {total_passenger}\")"
   ]
  },
  {
   "cell_type": "markdown",
   "metadata": {},
   "source": [
    "2. ¿ Cuantos hombres y mujeres sobrevivieron ?"
   ]
  },
  {
   "cell_type": "code",
   "execution_count": 46,
   "metadata": {
    "tags": []
   },
   "outputs": [
    {
     "output_type": "stream",
     "name": "stdout",
     "text": "Sobrevivientes por genero:\nHombres : 109\nMujeres : 385\n"
    }
   ],
   "source": [
    "survivors_by_gender = df[df[\"Survived\"]==1][\"Sex\"].value_counts()\n",
    "print ( \"Sobrevivientes por genero:\")\n",
    "print ( f\"Hombres : {survivors_by_gender['male']}\")\n",
    "print ( f\"Mujeres : {survivors_by_gender['female']}\")\n"
   ]
  },
  {
   "cell_type": "markdown",
   "metadata": {},
   "source": [
    "3. ¿Cuál fue el top 10 de edad que más sobrevieron y el top 10 de edad que no lo lograron? "
   ]
  },
  {
   "cell_type": "code",
   "execution_count": 83,
   "metadata": {
    "tags": []
   },
   "outputs": [
    {
     "output_type": "stream",
     "name": "stdout",
     "text": "Edades con más sobrevivientes y cantidad de sobrevivientes\nAge\n22.0    21\n24.0    20\n36.0    16\n30.0    16\n18.0    16\n27.0    15\n35.0    14\n29.0    13\n19.0    12\n45.0    12\nName: Survived, dtype: int64\n\nEdades con mas fallecidos y cantidad de fallecidos\nAge\n21.0    33\n25.0    27\n24.0    27\n30.0    24\n28.0    23\n18.0    23\n22.0    22\n26.0    20\n29.0    17\n19.0    17\nName: Survived, dtype: int64\n"
    }
   ],
   "source": [
    "top_age_survivor = df[df[\"Survived\"]==1].groupby( by=[\"Age\"])[\"Survived\"].count().sort_values(ascending=False).head(10)\n",
    "\n",
    "top_age_not_survivor = df[df[\"Survived\"]==0].groupby( by=[\"Age\"])[\"Survived\"].count().sort_values(ascending=False).head(10)\n",
    "\n",
    "print (\"Edades con más sobrevivientes y cantidad de sobrevivientes\")\n",
    "print(top_age_survivor)\n",
    "print()\n",
    "print (\"Edades con mas fallecidos y cantidad de fallecidos\")\n",
    "print(top_age_not_survivor)"
   ]
  },
  {
   "cell_type": "markdown",
   "metadata": {},
   "source": [
    "4. ¿Cuántos cargos o títulos iban en el barco? "
   ]
  },
  {
   "cell_type": "code",
   "execution_count": 165,
   "metadata": {
    "tags": []
   },
   "outputs": [
    {
     "output_type": "stream",
     "name": "stdout",
     "text": "Personas por Cargo  y/o titulos a bordo\nTitle\nMr              757\nMiss            260\nMrs             197\nMaster           61\nDr                8\nRev               8\nCol               4\nMs                2\nMlle              2\nMajor             2\nDon               1\nDona              1\nthe Countess      1\nJonkheer          1\nLady              1\nSir               1\nMme               1\nCapt              1\nName: PassengerId, dtype: int64\n"
    }
   ],
   "source": [
    "df[\"Title\"] =df.Name.apply(lambda name: name.split(',')[1].split('.')[0].strip())\n",
    "total_by_title = df.groupby(['Title'])['PassengerId'].count().sort_values(ascending=False)\n",
    "print(\"Personas por Cargo  y/o titulos a bordo\")\n",
    "print(total_by_title)\n"
   ]
  },
  {
   "cell_type": "markdown",
   "metadata": {},
   "source": [
    "5. ¿Cuánto es la sumatoria del valor de los tickets en USD?"
   ]
  },
  {
   "cell_type": "code",
   "execution_count": 170,
   "metadata": {
    "tags": []
   },
   "outputs": [
    {
     "output_type": "stream",
     "name": "stdout",
     "text": "Valor total del ticket: 43550.4869\n"
    }
   ],
   "source": [
    "total_fare = df[\"Fare\"].sum()\n",
    "print(f\" Valor total del ticket: {total_fare}\")"
   ]
  },
  {
   "cell_type": "code",
   "execution_count": null,
   "metadata": {},
   "outputs": [],
   "source": []
  }
 ]
}